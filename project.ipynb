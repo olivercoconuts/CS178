{
 "cells": [
  {
   "cell_type": "code",
   "execution_count": 48,
   "metadata": {},
   "outputs": [],
   "source": [
    "import warnings\n",
    "warnings.filterwarnings('ignore')\n",
    "\n",
    "import numpy as np\n",
    "import mltools as ml\n",
    "import matplotlib.pyplot as plt\n",
    "%matplotlib inline\n",
    "import time\n",
    "from sklearn import *\n",
    "np.random.seed(0)"
   ]
  },
  {
   "cell_type": "code",
   "execution_count": 49,
   "metadata": {},
   "outputs": [],
   "source": [
    "X = np.genfromtxt(\"data/X_train.txt\",delimiter=None)\n",
    "Y = np.genfromtxt(\"data/Y_train.txt\",delimiter=None)\n",
    "Xte = np.genfromtxt('data/X_test.txt',delimiter=None)\n",
    "Xtr, Xva, Ytr, Yva = ml.splitData(X[:5000], Y[:5000], 0.75)"
   ]
  },
  {
   "cell_type": "code",
   "execution_count": 50,
   "metadata": {},
   "outputs": [],
   "source": [
    "# random_forest = ensemble.RandomForestClassifier(\n",
    "#     n_estimators=1000, min_samples_leaf= 4, oob_score = True, n_jobs=-1)\n",
    "\n",
    "# random_forest.fit(X, Y)\n",
    "# prediction = random_forest.predict(Xte)\n",
    "# np.savetxt(\"Y_submit.txt\",\n",
    "#            np.vstack( (np.arange(len(prediction)) , prediction) ).T,\n",
    "#            '%d, %.2f',header='ID,Prob1',comments='',delimiter=',');\n"
   ]
  },
  {
   "cell_type": "code",
   "execution_count": null,
   "metadata": {},
   "outputs": [],
   "source": [
    "# Build the classifiers\n",
    "random_forest = ensemble.RandomForestClassifier(\n",
    "    n_estimators=1000, min_samples_leaf= 12, oob_score = True, n_jobs=-1)\n",
    "\n",
    "random_forest.fit(X, Y)\n",
    "prediction = random_forest.predict(Xte)\n",
    "# np.savetxt(\"Y_submit.txt\",\n",
    "#            np.vstack( (np.arange(len(prediction)) , prediction) ).T,\n",
    "#            '%d, %.2f',header='ID,Prob1',comments='',delimiter=',');\n",
    "print(1-random_forest.score(Xva,Yva))\n",
    "\n",
    "# classifier_list = [(random_forest, 10)\n",
    "#                   ]\n",
    "# Yhat = []\n",
    "# for classifier in classifier_list:\n",
    "#     for weight in range(classifier[1]):\n",
    "#         Yhat.append(classifier[0].predict(Xte))"
   ]
  },
  {
   "cell_type": "code",
   "execution_count": 52,
   "metadata": {
    "collapsed": true
   },
   "outputs": [],
   "source": [
    "# start = time.time()\n",
    "# Yhat = predictSoft(Xtr)\n",
    "# mse(Yhat, Ytr)\n",
    "# auc(Yhat, Ytr)\n",
    "\n",
    "# end = time.time()\n",
    "\n",
    "# print('Seconds elapsed: %.4f' % (end - start))\n"
   ]
  },
  {
   "cell_type": "code",
   "execution_count": null,
   "metadata": {
    "collapsed": true
   },
   "outputs": [],
   "source": []
  }
 ],
 "metadata": {
  "kernelspec": {
   "display_name": "Python 3",
   "language": "python",
   "name": "python3"
  },
  "language_info": {
   "codemirror_mode": {
    "name": "ipython",
    "version": 3
   },
   "file_extension": ".py",
   "mimetype": "text/x-python",
   "name": "python",
   "nbconvert_exporter": "python",
   "pygments_lexer": "ipython3",
   "version": "3.6.3"
  }
 },
 "nbformat": 4,
 "nbformat_minor": 2
}
