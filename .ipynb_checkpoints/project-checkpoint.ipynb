{
 "cells": [
  {
   "cell_type": "code",
   "execution_count": 36,
   "metadata": {},
   "outputs": [],
   "source": [
    "import warnings\n",
    "warnings.filterwarnings('ignore')\n",
    "\n",
    "import numpy as np\n",
    "import mltools as ml\n",
    "import matplotlib.pyplot as plt\n",
    "%matplotlib inline\n",
    "import time\n",
    "from sklearn import *\n",
    "\n",
    "np.random.seed(0)"
   ]
  },
  {
   "cell_type": "code",
   "execution_count": 37,
   "metadata": {
    "collapsed": true
   },
   "outputs": [],
   "source": [
    "X = np.genfromtxt(\"data/X_train.txt\",delimiter=None)\n",
    "Y = np.genfromtxt(\"data/Y_train.txt\",delimiter=None)\n",
    "Xte = np.genfromtxt('data/X_test.txt',delimiter=None)\n",
    "Xtr, Xva, Ytr, Yva = ml.splitData(X[:10000], Y[:10000], 0.75)\n",
    "\n",
    "#Build classifiers\n",
    "class random_forest:\n",
    "    def predict(self, Xtr, Ytr, Xte):\n",
    "        rf = ensemble.RandomForestClassifier(\n",
    "                        n_estimators=500, min_samples_leaf= 4, n_jobs=-1 ,max_depth=13)\n",
    "        rf.fit(Xtr,Ytr)\n",
    "        return rf.predict(Xte)\n",
    "\n",
    "class knn_classifier:\n",
    "    def predict(self,Xtr,Ytr,Xte):\n",
    "        # Cut training features\n",
    "        Xtr_selected = np.ndarray(shape=(Xtr.shape[0],3))\n",
    "        for feature_idx in range(3):\n",
    "            feature = feature_most_important[feature_idx]\n",
    "            Xtr_single_feature = Xtr[:,feature]\n",
    "            Xtr_selected[:,feature_idx] = Xtr_single_feature\n",
    "\n",
    "        # Construct the knn classifier\n",
    "        knn = ml.knn.knnClassify(Xtr_selected, Ytr, K=85)\n",
    "\n",
    "        # Cut testing features\n",
    "        Xte_selected = np.ndarray(shape=(Xte.shape[0],3))\n",
    "        for feature_idx in range(3):\n",
    "            feature = feature_most_important[feature_idx]\n",
    "            Xte_single_feature = Xte[:,feature]\n",
    "            Xte_selected[:,feature_idx] = Xte_single_feature\n",
    "        return knn.predict(Xte_selected)"
   ]
  },
  {
   "cell_type": "code",
   "execution_count": 41,
   "metadata": {
    "scrolled": false
   },
   "outputs": [
    {
     "name": "stdout",
     "output_type": "stream",
     "text": [
      "roc_auc_score: 0.622961012467\n"
     ]
    }
   ],
   "source": [
    "classifier_list = [(random_forest(), 10),\n",
    "                   (knn_classifier(), 2)\n",
    "                  ]\n",
    "Yhat = []\n",
    "for classifier in classifier_list:\n",
    "    for weight in range(classifier[1]):\n",
    "        Yhat.append(classifier[0].predict(Xtr,Ytr,Xva))\n",
    "\n",
    "Yhat_average = np.mean(np.array(Yhat), axis=0)\n",
    "print(\"roc_auc_score:\", metrics.roc_auc_score(Yva, Yhat_average))\n",
    "# np.savetxt(\"Y_submit.txt\",\n",
    "#            np.vstack( (np.arange(len(Yhat)) , prediction) ).T,\n",
    "#            '%d, %.2f',header='ID,Prob1',comments='',delimiter=',');"
   ]
  },
  {
   "cell_type": "code",
   "execution_count": 39,
   "metadata": {
    "collapsed": true
   },
   "outputs": [],
   "source": [
    "# start = time.time()\n",
    "# Yhat = predictSoft(Xtr)\n",
    "# mse(Yhat, Ytr)\n",
    "# auc(Yhat, Ytr)\n",
    "\n",
    "# end = time.time()\n",
    "\n",
    "# print('Seconds elapsed: %.4f' % (end - start))\n"
   ]
  },
  {
   "cell_type": "code",
   "execution_count": null,
   "metadata": {
    "collapsed": true
   },
   "outputs": [],
   "source": []
  }
 ],
 "metadata": {
  "kernelspec": {
   "display_name": "Python 3",
   "language": "python",
   "name": "python3"
  },
  "language_info": {
   "codemirror_mode": {
    "name": "ipython",
    "version": 3
   },
   "file_extension": ".py",
   "mimetype": "text/x-python",
   "name": "python",
   "nbconvert_exporter": "python",
   "pygments_lexer": "ipython3",
   "version": "3.6.3"
  }
 },
 "nbformat": 4,
 "nbformat_minor": 2
}
