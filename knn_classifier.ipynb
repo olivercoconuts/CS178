{
 "cells": [
  {
   "cell_type": "code",
   "execution_count": 10,
   "metadata": {
    "collapsed": true
   },
   "outputs": [],
   "source": [
    "from __future__ import division # For python 2.*\n",
    "\n",
    "import numpy as np\n",
    "import matplotlib.pyplot as plt\n",
    "import mltools as ml\n",
    "\n",
    "np.random.seed(0)\n",
    "%matplotlib inline\n",
    "\n",
    "#--------------------------------Testing for good parameters--------------------------------#\n",
    "'''Data Loading'''\n",
    "X = np.genfromtxt('data/X_train.txt', delimiter=None)\n",
    "Y = np.genfromtxt('data/Y_train.txt', delimiter=None)\n",
    "X,Y = ml.shuffleData(X,Y)\n",
    "X = X[:10000,:]\n",
    "Y = Y[:10000]\n",
    "Xtr,Xte,Ytr,Yte = ml.splitData(X,Y,0.75)"
   ]
  },
  {
   "cell_type": "code",
   "execution_count": 11,
   "metadata": {},
   "outputs": [
    {
     "data": {
      "text/plain": [
       "'choosed K=85 finally'"
      ]
     },
     "execution_count": 11,
     "metadata": {},
     "output_type": "execute_result"
    }
   ],
   "source": [
    "'''Testing for best K'''\n",
    "# K_array = np.array([1,5,25,55,85,115,155,195,255,305])\n",
    "# Error_K = []\n",
    "\n",
    "# for i in K_array:\n",
    "#     knn = ml.knn.knnClassify(Xtr, Ytr, K=i)\n",
    "#     err = knn.err(Xte, Yte)\n",
    "#     Error_K.append(err)\n",
    "    \n",
    "# f,ax = plt.subplots(1,1,figsize=(10,8))\n",
    "# ax.semilogy(K_array,Error_K,lw=4,marker='d',markersize=20,alpha=0.75,label='Validation Error')\n",
    "\n",
    "# ax.set_xticklabels(ax.get_xticks(), fontsize=25)\n",
    "# ax.set_yticklabels(ax.get_yticks(), fontsize=25)\n",
    "# ax.legend(fontsize=20, loc=0)\n",
    "\n",
    "# plt.show()\n",
    "'''choosed K=85 finally'''"
   ]
  },
  {
   "cell_type": "code",
   "execution_count": 12,
   "metadata": {
    "collapsed": true,
    "scrolled": false
   },
   "outputs": [],
   "source": [
    "'''Testing the importance of each feature'''\n",
    "# Error_single_feature = dict()\n",
    "\n",
    "# for i in range(14): \n",
    "#     knn = ml.knn.knnClassify(Xtr[:,i:i+1], Ytr, K=85)\n",
    "#     Error_single_feature[i] = knn.err(Xte[:,i:i+1],Yte)\n",
    "    \n",
    "# print(sorted(Error_single_feature.keys(), key=lambda x: Error_single_feature[x]))\n",
    "'''The order of features in terms of importance is:'''\n",
    "feature_most_important = [0, 13, 9, 3, 6, 5, 10, 4, 7, 11, 12, 8, 1, 2]"
   ]
  },
  {
   "cell_type": "code",
   "execution_count": 13,
   "metadata": {},
   "outputs": [
    {
     "data": {
      "text/plain": [
       "'Choosed first 3 best features: 1, 14, 10'"
      ]
     },
     "execution_count": 13,
     "metadata": {},
     "output_type": "execute_result"
    }
   ],
   "source": [
    "'''Testing with different numbers of top features'''\n",
    "# Error_feature = []\n",
    "# for i in range(14):\n",
    "#     Xtr_selected = np.ndarray(shape=(Xtr.shape[0],i+1))\n",
    "#     for feature_idx in range(i+1):\n",
    "#         feature = feature_most_important[feature_idx]\n",
    "#         Xtr_single_feature = Xtr[:,feature]\n",
    "#         Xtr_selected[:,feature_idx] = Xtr_single_feature\n",
    "#     knn = ml.knn.knnClassify(Xtr_selected, Ytr, K=85)\n",
    "#     Xte_selected = np.ndarray(shape=(Xte.shape[0],i+1))\n",
    "#     for feature_idx in range(i+1):\n",
    "#         feature = feature_most_important[feature_idx]\n",
    "#         Xte_single_feature = Xte[:,feature]\n",
    "#         Xte_selected[:,feature_idx] = Xte_single_feature\n",
    "#     Error_feature.append(knn.err(Xte_selected, Yte))\n",
    "# print(Error_feature)\n",
    "'''Error rates of first n best features is:'''\n",
    "# [0.34639999999999999, 0.34360000000000002, 0.33839999999999998, \n",
    "# 0.3392, 0.34279999999999999, 0.35759999999999997, 0.35799999999999998, \n",
    "# 0.35999999999999999, 0.35999999999999999, 0.35999999999999999, 0.35999999999999999, \n",
    "# 0.35999999999999999, 0.3604, 0.3604]\n",
    "'''Choosed first 3 best features: 1, 14, 10'''"
   ]
  },
  {
   "cell_type": "code",
   "execution_count": 14,
   "metadata": {},
   "outputs": [
    {
     "data": {
      "text/plain": [
       "'Best AUC score is 0.633158476743'"
      ]
     },
     "execution_count": 14,
     "metadata": {},
     "output_type": "execute_result"
    }
   ],
   "source": [
    "'''Run for score testing'''\n",
    "# Xtr_selected = np.ndarray(shape=(Xtr.shape[0],3))\n",
    "# for feature_idx in range(3):\n",
    "#     feature = feature_most_important[feature_idx]\n",
    "#     Xtr_single_feature = Xtr[:,feature]\n",
    "#     Xtr_selected[:,feature_idx] = Xtr_single_feature\n",
    "# knn = ml.knn.knnClassify(Xtr_selected, Ytr, K=85)\n",
    "# Xte_selected = np.ndarray(shape=(Xte.shape[0],3))\n",
    "# for feature_idx in range(3):\n",
    "#     feature = feature_most_important[feature_idx]\n",
    "#     Xte_single_feature = Xte[:,feature]\n",
    "#     Xte_selected[:,feature_idx] = Xte_single_feature\n",
    "# print(knn.auc(Xte_selected,Yte))\n",
    "'''Best AUC score is 0.633158476743'''"
   ]
  },
  {
   "cell_type": "code",
   "execution_count": 18,
   "metadata": {
    "collapsed": true
   },
   "outputs": [],
   "source": []
  }
 ],
 "metadata": {
  "kernelspec": {
   "display_name": "Python 3",
   "language": "python",
   "name": "python3"
  },
  "language_info": {
   "codemirror_mode": {
    "name": "ipython",
    "version": 3
   },
   "file_extension": ".py",
   "mimetype": "text/x-python",
   "name": "python",
   "nbconvert_exporter": "python",
   "pygments_lexer": "ipython3",
   "version": "3.6.3"
  }
 },
 "nbformat": 4,
 "nbformat_minor": 2
}
