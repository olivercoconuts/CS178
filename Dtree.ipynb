{
 "cells": [
  {
   "cell_type": "code",
   "execution_count": null,
   "metadata": {
    "collapsed": true
   },
   "outputs": [],
   "source": [
    "import numpy as np\n",
    "import mltools as ml\n",
    "from sklearn.ensemble import RandomForestRegressor\n",
    "\n",
    "##def predictSoft(Xtr, Ytr, Xte, maxDepth, minLeaf, nFeatures, nTrees):\n",
    "def predictSoft(Xtr, Ytr, Xte):\n",
    "    # Set up storage for trees\n",
    "    trees = [None] * nTrees\n",
    "\n",
    "    # Make trees\n",
    "    for i in range(nTrees):\n",
    "        M = Xtr.shape[0]\n",
    "        Xi, Yi = ml.bootstrapData(Xtr, Ytr, M)\n",
    "        ##trees[i] = RandomForestRegressor(n_estimators=nFeatures, max_depth=maxDepth, min_samples_leaf= minLeaf)\n",
    "        trees[i] = RandomForestRegressor(n_estimators=14, max_depth=4, min_samples_leaf= 1024)\n",
    "        trees[i] = trees[i].fit(Xi, Yi)\n",
    "\n",
    "    predictXte = np.zeros((Xte.shape[0], nTrees))\n",
    "\n",
    "    for i in range(nTrees):\n",
    "        predictXte[:, i] = trees[i].predict(Xte)\n",
    "\n",
    "    return np.mean(predictXte, axis=1)"
   ]
  }
 ],
 "metadata": {
  "kernelspec": {
   "display_name": "Python 3",
   "language": "python",
   "name": "python3"
  },
  "language_info": {
   "codemirror_mode": {
    "name": "ipython",
    "version": 3
   },
   "file_extension": ".py",
   "mimetype": "text/x-python",
   "name": "python",
   "nbconvert_exporter": "python",
   "pygments_lexer": "ipython3",
   "version": "3.6.3"
  }
 },
 "nbformat": 4,
 "nbformat_minor": 2
}
